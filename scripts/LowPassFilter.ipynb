{
 "cells": [
  {
   "cell_type": "markdown",
   "id": "abc0916e",
   "metadata": {},
   "source": [
    "# Design and test a lowpass filter\n",
    "\n",
    "This document describes how to design a lowpass filter with a cutoff frequency $\\omega_c$ and compute the discrete coefficients so that it can be implemented on hardware.\n",
    "\n",
    "This is a modified version of [this script](https://github.com/curiores/ArduinoTutorials/blob/main/BasicFilters/Design/LowPass/LowPassFilter.ipynb)\n",
    "created by [Curio Res](https://github.com/curiores) and explained in [a video made by her](https://www.youtube.com/watch?v=HJ-C4Incgpw)"
   ]
  },
  {
   "cell_type": "code",
   "execution_count": null,
   "id": "2134e7c1",
   "metadata": {},
   "outputs": [],
   "source": [
    "# Packages and adjustments to the figures\n",
    "from scipy import signal\n",
    "import matplotlib.pyplot as plt\n",
    "import numpy as np\n",
    "import math\n",
    "plt.rcParams[\"figure.figsize\"] = 10,5\n",
    "plt.rcParams[\"font.size\"] = 16\n",
    "plt.rcParams.update({\"text.usetex\": False,\"font.family\": \"sans-serif\",\"font.sans-serif\": [\"Arial\"]})"
   ]
  },
  {
   "cell_type": "markdown",
   "id": "0a93d673",
   "metadata": {},
   "source": [
    "## 1. Generate a test signal\n",
    " \n",
    "* A simple test signal $\\boldsymbol{y} = \\{ y_i \\}$ is generated with a fixed sampling frequency using the function:\n",
    "\n",
    "$$y(t) = m_0 \\sin(2\\pi f_0 t) + m_1 \\sin(2\\pi f_1 t)$$\n",
    "\n",
    "* The power spectrum is plotted as the magnitude of the discrete fourier transform (DFT): $|\\hat{\\boldsymbol{y}}|$"
   ]
  },
  {
   "cell_type": "code",
   "execution_count": null,
   "id": "64201846",
   "metadata": {
    "scrolled": false
   },
   "outputs": [],
   "source": [
    "# Generate a signal\n",
    "samplingFreq = 104; # sampled at 1 kHz = 1000 samples / second\n",
    "tlims = [0,1]        # in seconds\n",
    "signalFreq = [5,20]; # Cycles / second\n",
    "signalMag = [1,0.2]; # magnitude of each sine\n",
    "t = np.linspace(tlims[0],tlims[1],(tlims[1]-tlims[0])*samplingFreq)\n",
    "y = signalMag[0]*np.sin(2*math.pi*signalFreq[0]*t) + signalMag[1]*np.sin(2*math.pi*signalFreq[1]*t)\n",
    "\n",
    "# Compute the Fourier transform\n",
    "yhat = np.fft.fft(y);\n",
    "fcycles = np.fft.fftfreq(len(t),d=1.0/samplingFreq); # the frequencies in cycles/s\n",
    "\n",
    "# Plot the signal\n",
    "plt.figure()\n",
    "plt.plot(t,y);\n",
    "plt.ylabel(\"$y(t)$\");\n",
    "plt.xlabel(\"$t$ (s)\");\n",
    "plt.xlim([min(t),max(t)]);\n",
    "\n",
    "# Plot the power spectrum\n",
    "plt.figure()\n",
    "plt.plot(fcycles,np.absolute(yhat));\n",
    "plt.xlim([-100,100]);\n",
    "plt.xlabel(r\"$\\omega$ (cycles/s)\");\n",
    "plt.ylabel(r\"$|\\hat{y}|$\");"
   ]
  },
  {
   "cell_type": "markdown",
   "id": "7db67e0d",
   "metadata": {},
   "source": [
    "## 2. Low-pass filter transfer function\n",
    "\n",
    "* A cutoff frequency is selected and the transfer function for the low-pass filter is computed using <code>signal.TransferFunction</code>\n",
    "* The low-pass filter transfer function is\n",
    "$$H(s) = \\frac{\\omega_0}{s + \\omega_0}$$\n",
    "* The Bode plot shows the frequency response of $H$ by plotting the magnitude and phase of the frequency response\n",
    "* Low frequencies are not attenuated (this is the *pass band*)\n",
    "* High frequencies are attenutated (this is the *stop band*)\n"
   ]
  },
  {
   "cell_type": "code",
   "execution_count": null,
   "id": "1eeedea4",
   "metadata": {},
   "outputs": [],
   "source": [
    "# Low-pass filter\n",
    "w0 = 2*np.pi*5; # pole frequency (rad/s)\n",
    "num = w0        # transfer function numerator coefficients\n",
    "den = [1,w0]    # transfer function denominator coefficients\n",
    "lowPass = signal.TransferFunction(num,den) # Transfer function\n",
    "\n",
    "# Generate the bode plot\n",
    "w = np.logspace( np.log10(min(signalFreq)*2*np.pi/10), np.log10(max(signalFreq)*2*np.pi*10), 500 )\n",
    "w, mag, phase = signal.bode(lowPass,w)\n",
    "\n",
    "# Magnitude plot\n",
    "plt.figure()\n",
    "plt.semilogx(w, mag)\n",
    "for sf in signalFreq:\n",
    "    plt.semilogx([sf*2*np.pi,sf*2*np.pi],[min(mag),max(mag)],'k:')\n",
    "plt.ylabel(\"Magnitude ($dB$)\")\n",
    "plt.xlim([min(w),max(w)])\n",
    "plt.ylim([min(mag),max(mag)])\n",
    "\n",
    "# Phase plot\n",
    "plt.figure()\n",
    "plt.semilogx(w, phase)  # Bode phase plot\n",
    "plt.ylabel(r\"Phase ($^\\circ$)\")\n",
    "plt.xlabel(r\"$\\omega$ (rad/s)\")\n",
    "plt.xlim([min(w),max(w)])\n",
    "plt.show()"
   ]
  },
  {
   "cell_type": "markdown",
   "id": "5531c7d1",
   "metadata": {},
   "source": [
    "## 3. Discrete transfer function\n",
    "\n",
    "To implement the low-pass filter on hardware, you need to compute the discrete transfer function using the signal's sampling frequency.\n",
    "* The time step is $\\Delta t = 1/f_s$\n",
    "* Computing the discrete transfer function using Tustin's method, set $s = \\frac{2}{\\Delta t} \\left( \\frac{1-z^{-1}}{1+z^{-1}} \\right)$, so\n",
    "$$ H(z) = \\frac{\\omega_0}{\\frac{2}{\\Delta t} \\frac{1-z^{-1}}{1+z^{-1}}  + \\omega_0} = \\frac{\\Delta t \\omega_0 (z+1)}{(\\Delta t \\omega_0 + 2)z + \\Delta t \\omega_0 - 2} $$\n",
    "* You don't have to compute it by hand. The <code>to_discrete</code> method is used to compute the bilinear transform (Tustin's method)"
   ]
  },
  {
   "cell_type": "code",
   "execution_count": null,
   "id": "d69cb7a7",
   "metadata": {},
   "outputs": [],
   "source": [
    "dt = 1.0/samplingFreq;\n",
    "discreteLowPass = lowPass.to_discrete(dt,method='gbt',alpha=0.5)\n",
    "print(discreteLowPass)"
   ]
  },
  {
   "cell_type": "markdown",
   "id": "6390b969",
   "metadata": {},
   "source": [
    "## 4. Filter coefficients\n",
    "\n",
    "We want to find the filter coefficients for the discrete update:\n",
    "$$y[n] = a_1 y[n-1] + a_2 y[n-2] + ... + b_0 x[n] + b_1 x[n-1] + ...$$\n",
    "\n",
    "The coefficients can be taken directly from the discrete transfer function of the filter in the form:\n",
    "$$H(z) = \\frac{b_0 + b_1 z^{-1} + b_2 z^{-2} + \\ldots}{1 - a_1 z^{-1} - a_2 z^{-2} + \\ldots}$$\n",
    "\n",
    "(This is a result of taking the Z-transform which is not shown here)\n",
    "\n",
    "Compare this to a transfer function with coefficients\n",
    "<code>\n",
    "num = [b_0, b_1, b_2]\n",
    "den = [1, a_1, a_2]\n",
    "</code>\n",
    "is \n",
    "$$H(z) = \\frac{b_0 z^2 + b_1 z + b_2}{z^2 + a_1 z + a_2}$$\n",
    "which is equivalent to\n",
    "$$H(z) = \\frac{b_0 + b_1 z^{-1} + b_2 z^{-2}}{1 + a_1 z^{-1} + a_2 z^{-2}}$$\n",
    "So you can take the coefficients in the same order that they are defined in the numerator and denominator of the transfer function object. The only difference is that the **coefficients in the denominator need a negative sign**.\n",
    "\n",
    "* To filter the signal, apply the filter using the discrete update\n",
    "* The filtered signal and filtered signal power spectrum are plotted alongside the unfiltered signal"
   ]
  },
  {
   "cell_type": "code",
   "execution_count": null,
   "id": "fc5aacac",
   "metadata": {},
   "outputs": [],
   "source": [
    "# The coefficients from the discrete form of the filter transfer function (but with a negative sign)\n",
    "b = discreteLowPass.num;\n",
    "a = -discreteLowPass.den;\n",
    "print(\"Filter coefficients b_i: \" + str(b))\n",
    "print(\"Filter coefficients a_i: \" + str(a[1:]))\n",
    "\n",
    "# Filter the signal\n",
    "yfilt = np.zeros(len(y));\n",
    "for i in range(3,len(y)):\n",
    "    yfilt[i] = a[1]*yfilt[i-1] + b[0]*y[i] + b[1]*y[i-1];\n",
    "    \n",
    "# Plot the signal\n",
    "plt.figure()\n",
    "plt.plot(t,y);\n",
    "plt.plot(t,yfilt);\n",
    "plt.ylabel(\"$y(t)$\")\n",
    "plt.xlim([min(t),max(t)]);\n",
    "\n",
    "# Generate Fourier transform\n",
    "yfilthat = np.fft.fft(yfilt)\n",
    "fcycles = np.fft.fftfreq(len(t),d=1.0/samplingFreq)\n",
    "\n",
    "plt.figure()\n",
    "plt.plot(fcycles,np.absolute(yhat));\n",
    "plt.plot(fcycles,np.absolute(yfilthat));\n",
    "plt.xlim([-100,100]);\n",
    "plt.xlabel(r\"$\\omega$ (cycles/s)\");\n",
    "plt.ylabel(r\"$|\\hat{y}|$\");\n"
   ]
  }
 ],
 "metadata": {
  "kernelspec": {
   "display_name": "Python 3",
   "language": "python",
   "name": "python3"
  },
  "language_info": {
   "codemirror_mode": {
    "name": "ipython",
    "version": 3
   },
   "file_extension": ".py",
   "mimetype": "text/x-python",
   "name": "python",
   "nbconvert_exporter": "python",
   "pygments_lexer": "ipython3",
   "version": "3.12.3"
  }
 },
 "nbformat": 4,
 "nbformat_minor": 5
}
